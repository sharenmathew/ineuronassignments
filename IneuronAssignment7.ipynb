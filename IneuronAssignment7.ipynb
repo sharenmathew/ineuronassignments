{
 "cells": [
  {
   "cell_type": "markdown",
   "id": "1400bfc1",
   "metadata": {},
   "source": [
    "Q.1. Create two int type variables, apply addition, subtraction, division and multiplications and store the results in variables. Then print the data in the following format by calling the variables:\n"
   ]
  },
  {
   "cell_type": "code",
   "execution_count": 5,
   "id": "33d795b3",
   "metadata": {},
   "outputs": [
    {
     "name": "stdout",
     "output_type": "stream",
     "text": [
      "First variable is 10 second variable is 6\n",
      "Addition:  10 + 6 = 16\n",
      "Subtraction:  10 - 6 = 4\n",
      "Multiplication:  10 * 6 = 60\n",
      "Division:  10 / 6 = 1.6666666666666667\n"
     ]
    }
   ],
   "source": [
    "#Answer\n",
    "\n",
    "a=10\n",
    "b=6\n",
    "add=a+b\n",
    "sub=a-b\n",
    "multi=a*b\n",
    "div=a/b\n",
    "print(\"First variable is\",a,\"second variable is\",b)\n",
    "print(\"Addition: \", a ,\"+\", b, \"=\",add)\n",
    "print(\"Subtraction: \", a ,\"-\", b, \"=\",sub)\n",
    "print(\"Multiplication: \", a ,\"*\", b, \"=\",multi)\n",
    "print(\"Division: \", a ,\"/\", b, \"=\",div)"
   ]
  },
  {
   "cell_type": "code",
   "execution_count": 6,
   "id": "a68efdb5",
   "metadata": {},
   "outputs": [
    {
     "name": "stdout",
     "output_type": "stream",
     "text": [
      "First variable is 10 second variable is 6\n",
      "Addition:  10 + 6 = 16\n",
      "Subtraction:  10 - 6 = 4\n",
      "Multiplication:  10 * 6 = 60\n",
      "Division:  10 / 6 = 1.6666666666666667\n"
     ]
    }
   ],
   "source": [
    "def calculate(a,b):\n",
    "    add=a+b\n",
    "    sub=a-b\n",
    "    multi=a*b\n",
    "    div=a/b\n",
    "    print(\"First variable is\",a,\"second variable is\",b)\n",
    "    print(\"Addition: \", a ,\"+\", b, \"=\",add)\n",
    "    print(\"Subtraction: \", a ,\"-\", b, \"=\",sub)\n",
    "    print(\"Multiplication: \", a ,\"*\", b, \"=\",multi)\n",
    "    print(\"Division: \", a ,\"/\", b, \"=\",div)\n",
    "calculate(10,6)\n"
   ]
  },
  {
   "cell_type": "markdown",
   "id": "e041af10",
   "metadata": {},
   "source": [
    "Q.2. What is the difference between the following operators:\n",
    "(i) ‘/’ & ‘//’\n",
    "(ii) ‘**’ & ‘^’\n",
    "\n",
    "Answer\n",
    "\n",
    "(i) '/'- it is the division operatior and the output will be float\n",
    "\n",
    "    '//'- it is the floor division operator.It will give a result down to the nearest whole number and the output will \n",
    "    be integer.\n",
    " \n",
    "(ii) '**'- It is the exponential operator\n",
    "\n",
    "     '^' - It is the bitwise operator XOR"
   ]
  },
  {
   "cell_type": "markdown",
   "id": "dc0b2fcc",
   "metadata": {},
   "source": [
    "Q.3. List the logical operators.\n",
    "\n",
    "Answer\n",
    "\n",
    "and , or , not"
   ]
  },
  {
   "cell_type": "markdown",
   "id": "c46eb8f0",
   "metadata": {},
   "source": [
    "Q.4. Explain right shift operator and left shift operator with examples.\n",
    "\n",
    "Answer\n",
    "\n",
    "Right shift operator(>>)- It omits the end value.\n",
    "for 10>>2- the binary value of 10 is 1010.so the right shift operator omits the last to 2 values.so the binary value is 10.Then the equivalent value is calculated. That is 2.\n",
    "\n",
    "Left shift operator(<<)- It add zero to the end value\n",
    "for 10<<2- the binary value of 10 is 1010. The left shift operator add two zero to the end binary value.so the binary value is 101000. then the equivalent value is calculated. That is 40.\n"
   ]
  },
  {
   "cell_type": "markdown",
   "id": "318f1d76",
   "metadata": {},
   "source": [
    "Q.5. Create a list containing int type data of length 15. Then write a code to check if 10 is present in the list or not."
   ]
  },
  {
   "cell_type": "code",
   "execution_count": 5,
   "id": "44f9f9ef",
   "metadata": {},
   "outputs": [
    {
     "name": "stdout",
     "output_type": "stream",
     "text": [
      "10 is present\n"
     ]
    }
   ],
   "source": [
    "#Answer\n",
    "\n",
    "list_num=[1,3,6,2,56,12,90,400,23,10,56,55,76,19,30]\n",
    "if 10 in list_num:\n",
    "    print(\"10 is present\")\n",
    "else:\n",
    "    print(\"10 is not present\")"
   ]
  },
  {
   "cell_type": "code",
   "execution_count": null,
   "id": "2a515c9c",
   "metadata": {},
   "outputs": [],
   "source": []
  }
 ],
 "metadata": {
  "kernelspec": {
   "display_name": "Python 3 (ipykernel)",
   "language": "python",
   "name": "python3"
  },
  "language_info": {
   "codemirror_mode": {
    "name": "ipython",
    "version": 3
   },
   "file_extension": ".py",
   "mimetype": "text/x-python",
   "name": "python",
   "nbconvert_exporter": "python",
   "pygments_lexer": "ipython3",
   "version": "3.10.9"
  }
 },
 "nbformat": 4,
 "nbformat_minor": 5
}
