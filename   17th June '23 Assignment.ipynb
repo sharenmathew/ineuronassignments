{
 "cells": [
  {
   "cell_type": "markdown",
   "id": "e0254d91",
   "metadata": {},
   "source": [
    "1. What is the role of try and exception block?\n",
    "\n",
    "Answer\n",
    "\n",
    "It is a process where you define a block of code that will be executed if an error occurs when the program is running.\n",
    "try block: The code within the try block contains the statements that may potentially raise an exception. It allows you to specify the section of code that you want to monitor for exceptions.\n",
    "\n",
    "except block: If an exception occurs within the try block, the corresponding except block(s) are executed. The except block allows you to define the actions or code that should be executed when a specific exception is raised. You can have multiple except blocks to handle different types of exceptions"
   ]
  },
  {
   "cell_type": "markdown",
   "id": "5682dc04",
   "metadata": {},
   "source": [
    "2. What is the syntax for a basic try-except block?\n",
    "\n",
    "Answer\n",
    "\n",
    "The basic syntax consist of try and except blocks. The try block contains the code that might raise an exception, and the except block contains the code that will be executed if an exception is raised."
   ]
  },
  {
   "cell_type": "markdown",
   "id": "8ba819e1",
   "metadata": {},
   "source": [
    "3. What happens if an exception occurs inside a try block and there is no matching except block?\n",
    "\n",
    "Answer\n",
    "\n",
    "An error will be displayed(incomplete input)"
   ]
  },
  {
   "cell_type": "markdown",
   "id": "8787077b",
   "metadata": {},
   "source": [
    "4. What is the difference between using a bare except block and specifying a specific exception type?\n",
    "\n",
    "Answer\n",
    "\n",
    "Bare except block will catch all the error(exceptions) that may occur in that block of code.So it is difficult to find where the error occured in the code\n",
    "\n",
    "specific exception type will catch only the specific exception(error) thus we can understand where the specific error is.\n"
   ]
  },
  {
   "cell_type": "markdown",
   "id": "a92c2e4a",
   "metadata": {},
   "source": [
    "5. Can you have nested try-except blocks in Python? If yes, then give an example.\n",
    "\n",
    "Answer\n",
    "\n",
    "Yes we can have nested try-except blocks"
   ]
  },
  {
   "cell_type": "code",
   "execution_count": 1,
   "id": "08108ec9",
   "metadata": {},
   "outputs": [
    {
     "name": "stdout",
     "output_type": "stream",
     "text": [
      "variables not specified\n"
     ]
    }
   ],
   "source": [
    "try:\n",
    "    print(m+n+p)\n",
    "except:\n",
    "    try:\n",
    "        print(m+n)\n",
    "    except:\n",
    "        try:\n",
    "            print(m)\n",
    "        except:\n",
    "            print(\"variables not specified\")"
   ]
  },
  {
   "cell_type": "markdown",
   "id": "ad9e0490",
   "metadata": {},
   "source": [
    "6. Can we use multiple exception blocks, if yes then give an example.\n",
    "\n",
    "Answer\n",
    "\n",
    "Yes we can use multiple exception blocks\n"
   ]
  },
  {
   "cell_type": "code",
   "execution_count": 8,
   "id": "6f954142",
   "metadata": {},
   "outputs": [
    {
     "name": "stdout",
     "output_type": "stream",
     "text": [
      "Please enter the numerator: 5\n",
      "Please enter the denominator: 4.7\n",
      "Please enter valid integers for the numerator and denominator.\n"
     ]
    }
   ],
   "source": [
    "try:\n",
    "    n = int(input(\"Please enter the numerator: \"))\n",
    "    d = int(input(\"Please enter the denominator: \"))\n",
    "\n",
    "    result = n / d\n",
    "    print(result)\n",
    "\n",
    "except ValueError:\n",
    "    print(\"Please enter valid integers for the numerator and denominator.\")\n",
    "except ZeroDivisionError:\n",
    "    print(\"There is an Error: Division by zero is not allowed.\")"
   ]
  },
  {
   "cell_type": "markdown",
   "id": "b81d552c",
   "metadata": {},
   "source": [
    "7. Write the reason due to which following errors are raised:\n",
    "\n",
    "Answer\n",
    "\n",
    "a. EOFError-Raised when the input() function hits an end-of-file condition (EOF)\n",
    "\n",
    "b. FloatingPointError-Raised when a floating point operation fails\n",
    "\n",
    "c. IndexError-Raised when a sequence subscript (index) is out of range\n",
    "\n",
    "d. MemoryError-Raised when an operation runs out of memory\n",
    "\n",
    "e. OverflowError-Raised when the result of an arithmetic operation is too large to be expressed\n",
    "\n",
    "f. TabError-Raised when indentation contains mixed tabs and spaces\n",
    "\n",
    "g. ValueError-Raised when a built-in operation or function receives an argument that has the right type but an inappropriate value."
   ]
  },
  {
   "cell_type": "markdown",
   "id": "92602f93",
   "metadata": {},
   "source": [
    "8. Write code for the following given scenario and add try-exception block to it.\n",
    "\n",
    "Answer\n"
   ]
  },
  {
   "cell_type": "code",
   "execution_count": 1,
   "id": "9a5db05c",
   "metadata": {},
   "outputs": [
    {
     "name": "stdout",
     "output_type": "stream",
     "text": [
      "Enter a value: 15\n",
      "Enter a value: 0\n",
      "Error: Division by zero is not allowed.\n"
     ]
    }
   ],
   "source": [
    "#a. Program to divide two numbers\n",
    "\n",
    "try:\n",
    "    a= int(input(\"Enter a value: \"))\n",
    "    b= int(input(\"Enter a value: \"))\n",
    "    result=a/b\n",
    "    print(result)\n",
    "    \n",
    "except ZeroDivisionError:\n",
    "    print(\"Error: Division by zero is not allowed.\")"
   ]
  },
  {
   "cell_type": "code",
   "execution_count": 9,
   "id": "aab03e60",
   "metadata": {},
   "outputs": [
    {
     "name": "stdout",
     "output_type": "stream",
     "text": [
      "Enter a value: sharen\n",
      "Please enter valid value.\n"
     ]
    }
   ],
   "source": [
    "#b. Program to convert a string to an integer\n",
    "\n",
    "try:\n",
    "    a= input(\"Enter a value: \")\n",
    "    result=int(a)\n",
    "    print(result)\n",
    "    \n",
    "except ValueError:\n",
    "    print(\"Please enter valid value.\")"
   ]
  },
  {
   "cell_type": "code",
   "execution_count": 13,
   "id": "4e7d2a61",
   "metadata": {},
   "outputs": [
    {
     "name": "stdout",
     "output_type": "stream",
     "text": [
      "The index is out of range\n"
     ]
    }
   ],
   "source": [
    "# c. Program to access an element in a list\n",
    "try:\n",
    "    list1=[1,6,12,8,5]\n",
    "    print(list1[8])\n",
    "except IndexError:\n",
    "    print(\"The index is out of range\")\n",
    "    "
   ]
  },
  {
   "cell_type": "code",
   "execution_count": 24,
   "id": "6531589b",
   "metadata": {},
   "outputs": [
    {
     "name": "stdout",
     "output_type": "stream",
     "text": [
      "Error: Check variables type\n"
     ]
    }
   ],
   "source": [
    "# d. Program to handle a specific exception\n",
    "\n",
    "try:\n",
    "    a=10\n",
    "    b=\"one\"\n",
    "    c=a+b\n",
    "    print(c)\n",
    "except TypeError:\n",
    "    print(\"Error: Check variables type\") "
   ]
  },
  {
   "cell_type": "code",
   "execution_count": 19,
   "id": "4e8ea136",
   "metadata": {},
   "outputs": [
    {
     "name": "stdout",
     "output_type": "stream",
     "text": [
      "Error: Check variables\n"
     ]
    }
   ],
   "source": [
    "# e. Program to handle any exception\n",
    "\n",
    "try:\n",
    "    a=10\n",
    "    b=\"ten\"\n",
    "    c=a+b\n",
    "    print(c)\n",
    "except:\n",
    "    print(\"Error: Check variables\")"
   ]
  },
  {
   "cell_type": "code",
   "execution_count": null,
   "id": "3f50aecd",
   "metadata": {},
   "outputs": [],
   "source": []
  }
 ],
 "metadata": {
  "kernelspec": {
   "display_name": "Python 3 (ipykernel)",
   "language": "python",
   "name": "python3"
  },
  "language_info": {
   "codemirror_mode": {
    "name": "ipython",
    "version": 3
   },
   "file_extension": ".py",
   "mimetype": "text/x-python",
   "name": "python",
   "nbconvert_exporter": "python",
   "pygments_lexer": "ipython3",
   "version": "3.10.9"
  }
 },
 "nbformat": 4,
 "nbformat_minor": 5
}
