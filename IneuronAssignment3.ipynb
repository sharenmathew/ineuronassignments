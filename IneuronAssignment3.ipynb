{
 "cells": [
  {
   "cell_type": "markdown",
   "id": "957370d6",
   "metadata": {},
   "source": [
    "# ASSIGNMENT 3"
   ]
  },
  {
   "cell_type": "markdown",
   "id": "f7deacb3",
   "metadata": {},
   "source": [
    "1. Why are functions advantageous to have in your programs?\n",
    "\n",
    "Answer\n",
    "\n",
    "We can prevent the repetition of same block of code.Thus making the program short and easier to read"
   ]
  },
  {
   "cell_type": "markdown",
   "id": "a904edb0",
   "metadata": {},
   "source": [
    "2. When does the code in a function run: when it's specified or when it's called?\n",
    "\n",
    "Answer\n",
    "\n",
    "When it is called\n"
   ]
  },
  {
   "cell_type": "markdown",
   "id": "1f14bb50",
   "metadata": {},
   "source": [
    "3. What statement creates a function?\n",
    "\n",
    "Answer\n",
    "\n",
    "The def  statement creates a function"
   ]
  },
  {
   "cell_type": "markdown",
   "id": "00fa4c9e",
   "metadata": {},
   "source": [
    "4. What is the difference between a function and a function call?\n",
    "\n",
    "Answer\n",
    "\n",
    "A function consist of def statement and a piece of code which specifices what to do when the function is called.\n",
    "\n",
    "A function call means calling a function.Unless the function is called there is no use of that function.\n",
    "\n"
   ]
  },
  {
   "cell_type": "markdown",
   "id": "386a0e28",
   "metadata": {},
   "source": [
    "5. How many global scopes are there in a Python program? How many local scopes?\n",
    "\n",
    "Answer\n",
    "\n",
    "There is one global scope and we can create as many local scopes as needed\n"
   ]
  },
  {
   "cell_type": "markdown",
   "id": "ce2387f3",
   "metadata": {},
   "source": [
    "6. What happens to variables in a local scope when the function call returns?\n",
    "\n",
    "Answer\n",
    "\n",
    "when the function call returns, then the variables are ineffective"
   ]
  },
  {
   "cell_type": "markdown",
   "id": "a91aa7d9",
   "metadata": {},
   "source": [
    "7. What is the concept of a return value? Is it possible to have a return value in an expression?\n",
    "\n",
    "Answer\n",
    "\n",
    "Return value is a value that a function returns after the function is called.return value can be a part of an expression"
   ]
  },
  {
   "cell_type": "markdown",
   "id": "212cbd3d",
   "metadata": {},
   "source": [
    "8. If a function does not have a return statement, what is the return value of a call to that function?\n",
    "\n",
    "Answer\n",
    "\n",
    "Return value of that function will be empty"
   ]
  },
  {
   "cell_type": "code",
   "execution_count": null,
   "id": "ace45e4a",
   "metadata": {},
   "outputs": [],
   "source": []
  },
  {
   "cell_type": "markdown",
   "id": "13a4b733",
   "metadata": {},
   "source": [
    "9. How do you make a function variable refer to the global variable?\n",
    "\n",
    "Answer\n",
    "\n",
    "A global statement will make a function variable refer to global variable\n"
   ]
  },
  {
   "cell_type": "markdown",
   "id": "c253c796",
   "metadata": {},
   "source": [
    "10. What is the data type of None?\n",
    "\n",
    "Answer\n",
    "\n",
    "NoneType"
   ]
  },
  {
   "cell_type": "markdown",
   "id": "266a3a6d",
   "metadata": {},
   "source": [
    "11. What does the sentence import areallyourpetsnamederic do?\n",
    "\n",
    "Answer\n",
    "\n",
    "import areallyourpetsnamederic \n",
    "\n",
    "There is no module named areallyourpetsnamederic. So nothing will be imported"
   ]
  },
  {
   "cell_type": "markdown",
   "id": "562e40e4",
   "metadata": {},
   "source": [
    "12. If you had a bacon() feature in a spam module, what would you call it after importing spam?\n",
    "\n",
    "Answer\n",
    "\n",
    "spam.bacon()"
   ]
  },
  {
   "cell_type": "markdown",
   "id": "c376cbdf",
   "metadata": {},
   "source": [
    "13. What can you do to save a programme from crashing if it encounters an error?\n",
    "\n",
    "Answer\n",
    "\n",
    "Place the code,that may cause an error, inside  the try block to save the program from crashing"
   ]
  },
  {
   "cell_type": "markdown",
   "id": "3cc31c04",
   "metadata": {},
   "source": [
    "14. What is the purpose of the try clause? What is the purpose of the except clause?\n",
    "\n",
    "Answer\n",
    "\n",
    "try clause - It allows you to specify the section of code that you want to monitor for exceptions.\n",
    "\n",
    "except clause- when there is an exception or error in the try, except block is executed .It will define the action the code should follow, when an exception is raised in try block"
   ]
  },
  {
   "cell_type": "code",
   "execution_count": null,
   "id": "62ea24aa",
   "metadata": {},
   "outputs": [],
   "source": []
  }
 ],
 "metadata": {
  "kernelspec": {
   "display_name": "Python 3 (ipykernel)",
   "language": "python",
   "name": "python3"
  },
  "language_info": {
   "codemirror_mode": {
    "name": "ipython",
    "version": 3
   },
   "file_extension": ".py",
   "mimetype": "text/x-python",
   "name": "python",
   "nbconvert_exporter": "python",
   "pygments_lexer": "ipython3",
   "version": "3.10.9"
  }
 },
 "nbformat": 4,
 "nbformat_minor": 5
}
