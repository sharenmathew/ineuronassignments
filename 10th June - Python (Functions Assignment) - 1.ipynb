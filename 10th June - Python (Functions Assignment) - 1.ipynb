{
 "cells": [
  {
   "cell_type": "markdown",
   "id": "2671de37",
   "metadata": {},
   "source": [
    "1. In Python, what is the difference between a built-in function and a user-defined function? Provide an example of each.\n",
    "\n",
    "Answer\n",
    "\n",
    "built-in function - These are functions which are already built  in python \n",
    "\n",
    "Example: len(),input()\n",
    "\n",
    "user-defined function- These are a block of code which are not built in python. These are defined by the programmer accoding to their convenience,which perform specific task .\n",
    "\n",
    "Example:\n",
    "def sum_2(n1,n2):\n",
    "    return n1+n2\n",
    "sum_2(2,4)"
   ]
  },
  {
   "cell_type": "markdown",
   "id": "4887c78b",
   "metadata": {},
   "source": [
    "2.How can you pass arguments to a function in Python? Explain the difference between positional arguments and keyword arguments.\n",
    "\n",
    "Answer\n",
    "\n",
    "Functions can take parameters or arguments, which are values you supply to the function so it can perform a computation with them. These parameters are placed inside parentheses after the function name.After defining a function, you can call it by writing its name followed by parentheses (). If the function takes parameters or arguments, you pass them inside these parentheses\n",
    "\n",
    "keyword arguments - Parameter Names are used to pass the argument during the function call.\n",
    "\n",
    "positional arguments - Arguments are passed in the order the parameters  are declared in the function."
   ]
  },
  {
   "cell_type": "markdown",
   "id": "c24298e6",
   "metadata": {},
   "source": [
    "3. What is the purpose of the return statement in a function? Can a function have multiple return statements? Explain with an example.\n",
    "\n",
    "Answer\n",
    "\n",
    "function can have return value or does not need a return statement. if the return statement is used in a function, then the value is stored and this can be used in other parts of your program.A function can have multiple return statements. But when any of them is executed, the function terminates. \n",
    "\n",
    "Example\n",
    "\n",
    "def num_even(num1):\n",
    "    if num1%2==0:\n",
    "        return True\n",
    "        return num1\n",
    "    else:\n",
    "        return False\n",
    "num_even(6)\n",
    "\n",
    "After the function return True value, it will not return the num1 value as the function terminates when the True value is returned\n"
   ]
  },
  {
   "cell_type": "markdown",
   "id": "83ed0311",
   "metadata": {},
   "source": [
    "4. What are lambda functions in Python? How are they different from regular functions? Provide an example where a lambda function can be useful.\n",
    "\n",
    "Answer\n",
    "\n",
    "Lambda functions are small functions defined with the lambda keyword.These are usually not used for complex operations,loop ,if or else statements.Lambda functions are useful for small tasks that are not reused throughout your code.These can take any number of arguments, but can have only one expression. They are not user friendly. This function does not need return statement. The expression is evaluated and returned when the function is called.\n",
    "\n",
    "Example:\n",
    "\n",
    "add= lambda x,y: x+y\n",
    "\n",
    "add(10,50)\n"
   ]
  },
  {
   "cell_type": "markdown",
   "id": "f6e64a32",
   "metadata": {},
   "source": [
    "5. How does the concept of \"scope\" apply to functions in Python? Explain the difference between local scope and global scope\n",
    "\n",
    "Answer\n",
    "Scope is the location in a program where a name is visible and accessible.\n",
    "The scope of global variables is the entire program whereas the scope of local variable is limited to the function where it is defined"
   ]
  },
  {
   "cell_type": "markdown",
   "id": "726409b3",
   "metadata": {},
   "source": [
    "6. How can you use the \"return\" statement in a Python function to return multiple values?\n",
    "\n",
    "Answer\n",
    "\n",
    "We can return multiple values by simply separating them with commas in a single return statement"
   ]
  },
  {
   "cell_type": "markdown",
   "id": "7f2bd26b",
   "metadata": {},
   "source": [
    "7. What is the difference between the \"pass by value\" and \"pass by reference\" concepts when it   comes to function arguments in Python?\n",
    "\n",
    "Answer\n",
    "\n",
    "Pass by Value- when you pass the value directly through argument\n",
    "example-  \n",
    "\n",
    "def num(num1,num2):\n",
    "    return num1+num2\n",
    "num(3,5)\n",
    "\n",
    "\n",
    "pass by reference- when you pass the value as a reference through argument\n",
    "example\n",
    "\n",
    "list1=[5,2,3,4]\n",
    "\n",
    "def num(list1):\n",
    "    for i in list1:\n",
    "        print(i)\n",
    "num(list1)\n",
    "\n",
    "When you give function parameters via reference, you're just passing references to values that already exist, it is called pass by reference. When you pass arguments by value \n"
   ]
  },
  {
   "cell_type": "markdown",
   "id": "2a37766b",
   "metadata": {},
   "source": [
    "8. Create a function that can intake integer or decimal value and do following operations:\n",
    "a. Logarithmic function (log x)\n",
    "b. Exponential function (exp(x))\n",
    "c. Power function with base 2 (2x)\n",
    "d. Square root\n",
    "\n"
   ]
  },
  {
   "cell_type": "code",
   "execution_count": 17,
   "id": "a706daa7",
   "metadata": {},
   "outputs": [
    {
     "data": {
      "text/plain": [
       "(1.5686159179138452, 121.51041751873485, 27.85761802547597, 2.1908902300206643)"
      ]
     },
     "execution_count": 17,
     "metadata": {},
     "output_type": "execute_result"
    }
   ],
   "source": [
    "# 8 Answer\n",
    "import math\n",
    "def math_opera(x):\n",
    "    log_val=math.log(x)\n",
    "    exp_val=math.exp(x)\n",
    "    pow_val=math.pow(2,x)\n",
    "    sqrt_val=math.sqrt(x)\n",
    "    \n",
    "    return log_val,exp_val,pow_val,sqrt_val\n",
    "\n",
    "math_opera(4.8)"
   ]
  },
  {
   "cell_type": "markdown",
   "id": "749ad0e1",
   "metadata": {},
   "source": [
    "9. Create a function that takes a full name as an argument and returns first name and last name.\n"
   ]
  },
  {
   "cell_type": "code",
   "execution_count": 18,
   "id": "b196bd6b",
   "metadata": {},
   "outputs": [
    {
     "name": "stdout",
     "output_type": "stream",
     "text": [
      "Sharen\n",
      "Mathew\n"
     ]
    }
   ],
   "source": [
    "# 9 Answer\n",
    "\n",
    "def name_parts(fullname):\n",
    "    a=fullname.split()\n",
    "    print(a[0])\n",
    "    print(a[-1])\n",
    "    \n",
    "name_parts(\"Sharen Anna Mathew\")"
   ]
  }
 ],
 "metadata": {
  "kernelspec": {
   "display_name": "Python 3 (ipykernel)",
   "language": "python",
   "name": "python3"
  },
  "language_info": {
   "codemirror_mode": {
    "name": "ipython",
    "version": 3
   },
   "file_extension": ".py",
   "mimetype": "text/x-python",
   "name": "python",
   "nbconvert_exporter": "python",
   "pygments_lexer": "ipython3",
   "version": "3.10.9"
  }
 },
 "nbformat": 4,
 "nbformat_minor": 5
}
