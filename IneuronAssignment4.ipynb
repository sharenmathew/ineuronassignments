{
 "cells": [
  {
   "cell_type": "markdown",
   "id": "3d6a538b",
   "metadata": {},
   "source": [
    "1. What exactly is []?\n",
    "\n",
    "Answer\n",
    "\n",
    "It is an empty list"
   ]
  },
  {
   "cell_type": "markdown",
   "id": "1a07c891",
   "metadata": {},
   "source": [
    "2. In a list of values stored in a variable called spam, how would you assign the value 'hello' as the third value? (Assume [2,4,6,8,10] are in spam.)\n",
    "\n",
    "Answer\n",
    "\n",
    "spam[2]=\"hello\""
   ]
  },
  {
   "cell_type": "markdown",
   "id": "6adf1c17",
   "metadata": {},
   "source": [
    "3. spam=['a','b','c','d']\n",
    "\n",
    " What is the value of spam[int(int(\"3\"*2)/11)]\n",
    "\n",
    "Answer\n",
    "\n",
    "'d'"
   ]
  },
  {
   "cell_type": "markdown",
   "id": "e6eaa7a9",
   "metadata": {},
   "source": [
    "4. What is the value of spam[-1]?\n",
    "\n",
    "Answer\n",
    "\n",
    "'d'"
   ]
  },
  {
   "cell_type": "markdown",
   "id": "f43bfab1",
   "metadata": {},
   "source": [
    "5. What is the value of spam[:2]?\n",
    "\n",
    "Answer\n",
    "\n",
    "['a', 'b']"
   ]
  },
  {
   "cell_type": "markdown",
   "id": "c339c156",
   "metadata": {},
   "source": [
    "Let's pretend bacon has the list [3.14, 'cat', 11, 'cat', True] for the next three questions.\n",
    "\n",
    "\n",
    "6. What is the value of bacon.index('cat')?\n",
    "\n",
    "Answer\n",
    "\n",
    "1"
   ]
  },
  {
   "cell_type": "markdown",
   "id": "059253f5",
   "metadata": {},
   "source": [
    "7. How does bacon.append(99) change the look of the list value in bacon?\n",
    "\n",
    "Answer\n",
    "\n",
    "[3.14, 'cat', 11, 'cat', True, 99]\n",
    "99 will be added to the end of the list"
   ]
  },
  {
   "cell_type": "markdown",
   "id": "8d53f595",
   "metadata": {},
   "source": [
    "8. How does bacon.remove('cat') change the look of the list in bacon?\n",
    "\n",
    "Answer\n",
    "\n",
    "[3.14, 11, 'cat', True]\n",
    "The first'cat' will be removed from the list."
   ]
  },
  {
   "cell_type": "markdown",
   "id": "ebdb2f1f",
   "metadata": {},
   "source": [
    "9. What are the list concatenation and list replication operators?\n",
    "\n",
    "Answer\n",
    "\n",
    "The operator for list concatenation is '+' . It adds  lists\n",
    "\n",
    "The operator for list replication is '*' . It multiplies the list"
   ]
  },
  {
   "cell_type": "markdown",
   "id": "1d722b23",
   "metadata": {},
   "source": [
    "10. What is difference between the list methods append() and insert()?\n",
    " \n",
    "Answer \n",
    "\n",
    "with append(), we can only add an item to the end of the list .\n",
    "\n",
    "but with insert(), we can add an item anywhere in the list."
   ]
  },
  {
   "cell_type": "markdown",
   "id": "b32fd154",
   "metadata": {},
   "source": [
    "11. What are the two methods for removing items from a list?\n",
    "\n",
    "Answer\n",
    "\n",
    "del, pop() and remove() are the different methids to remove items from a list.\n"
   ]
  }
 ],
 "metadata": {
  "kernelspec": {
   "display_name": "Python 3 (ipykernel)",
   "language": "python",
   "name": "python3"
  },
  "language_info": {
   "codemirror_mode": {
    "name": "ipython",
    "version": 3
   },
   "file_extension": ".py",
   "mimetype": "text/x-python",
   "name": "python",
   "nbconvert_exporter": "python",
   "pygments_lexer": "ipython3",
   "version": "3.10.9"
  }
 },
 "nbformat": 4,
 "nbformat_minor": 5
}
