{
 "cells": [
  {
   "cell_type": "markdown",
   "id": "34261a55",
   "metadata": {},
   "source": [
    "Q.1. What are keywords in python? Using the keyword library, print all the python keywords.\n",
    "\n",
    "Answer\n",
    "\n",
    "Keywords are reserved words that cannot be altered.They are used to define syntax and structure of the python language"
   ]
  },
  {
   "cell_type": "code",
   "execution_count": 2,
   "id": "61fe239b",
   "metadata": {},
   "outputs": [
    {
     "name": "stdout",
     "output_type": "stream",
     "text": [
      "['False', 'None', 'True', 'and', 'as', 'assert', 'async', 'await', 'break', 'class', 'continue', 'def', 'del', 'elif', 'else', 'except', 'finally', 'for', 'from', 'global', 'if', 'import', 'in', 'is', 'lambda', 'nonlocal', 'not', 'or', 'pass', 'raise', 'return', 'try', 'while', 'with', 'yield']\n"
     ]
    }
   ],
   "source": [
    "import keyword\n",
    "print(keyword.kwlist)"
   ]
  },
  {
   "cell_type": "markdown",
   "id": "4ce9bd36",
   "metadata": {},
   "source": [
    "Q.2. What are the rules to create variables in python?\n",
    "\n",
    "Answer\n",
    "\n",
    "Variable should not start with a digit.\n",
    "it should not have a special character.\n",
    "It cannot have a keyword name.\n"
   ]
  },
  {
   "cell_type": "markdown",
   "id": "5e1dedce",
   "metadata": {},
   "source": [
    "Q.3. What are the standards and conventions followed for the nomenclature of variables in python to improve code readability and maintainability?\n",
    "\n",
    "Answer\n",
    "\n",
    "variable names in Python can be any length and can consist of uppercase and lowercase letters, digits , and the underscore character ( _ ).But variable name should not start with a digits or should not contain special case.\n",
    "\n",
    "Name your variables based on the terms of the subject, so that the variable name clearly describes its purpose"
   ]
  },
  {
   "cell_type": "markdown",
   "id": "4206dd41",
   "metadata": {},
   "source": [
    "Q.4. What will happen if a keyword is used as a variable name?\n",
    "\n",
    "Answer\n",
    "\n",
    "Syntax Error will be displayed"
   ]
  },
  {
   "cell_type": "markdown",
   "id": "93bc338a",
   "metadata": {},
   "source": [
    "Q.5. For what purpose def keyword is used?\n",
    "\n",
    "Answer\n",
    "\n",
    "def keyword is used, to make a function needed by the user which does not already exist in python. Those type of function is called user defined function"
   ]
  },
  {
   "cell_type": "markdown",
   "id": "3e73894c",
   "metadata": {},
   "source": [
    "Q.6. What is the operation of this special character ‘\\’?\n",
    "\n",
    "Answer\n",
    "\n",
    " ' \\ ' - line continuation character .\n",
    "In Python, end of a statement is marked by a newline character and we can make a statement extend over multiple lines with the line continuation character ( \\ )\n",
    "\n",
    "example\n",
    "\n",
    "sum= 2+4+6  \\\n",
    "+4+1\n",
    "\n",
    "print(sum)\n",
    "\n"
   ]
  },
  {
   "cell_type": "markdown",
   "id": "2afef1ae",
   "metadata": {},
   "source": [
    "Q.7. Give an example of the following conditions:\n",
    "(i) Homogeneous list\n",
    "(ii) Heterogeneous set\n",
    "(iii) Homogeneous tuple\n",
    "\n",
    "Answer\n",
    "\n",
    "(i) Homogeneous list  -- list1=[1,2,3,4,5,6]\n",
    "\n",
    "(ii) Heterogeneous set --set1={1,\"cat\",3.14,\"6\"}\n",
    "\n",
    "(iii) Homogeneous tuple --tup1=(1,2,3,4)\n"
   ]
  },
  {
   "cell_type": "markdown",
   "id": "f47247f2",
   "metadata": {},
   "source": [
    "Q.8. Explain the mutable and immutable data types with proper explanation & examples.\n",
    "\n",
    "Answer\n",
    "\n",
    "Mutable data types means their elements can be changed (added, modified, or deleted) after they are created.\n",
    "\n",
    "Example- list,dictionaries\n",
    "\n",
    "In list we can alter the values\n",
    "\n",
    "my_list = [1, 2, 3]\n",
    "my_list[1] = 4 \n",
    "\n",
    "In dictionaries we can alter the values\n",
    "\n",
    "my_dict = {\"name\": \"sharen\", \"age\": 33}\n",
    "\n",
    "my_dict[\"age\"] = 32\n",
    "\n",
    "\n",
    "Immutable data type  means their elements cannot be changed (no addition, modification, or deletion) after they are created.\n",
    "\n",
    "Example- tuple\n",
    "\n",
    "my_tuple = (1, 2, 3)\n",
    "my_tuple[1] = 4  this is not possible,tuple does not support item assignment"
   ]
  },
  {
   "cell_type": "markdown",
   "id": "0a4d9275",
   "metadata": {},
   "source": [
    "Q.9. Write a code to create the given structure using only for loop.\n",
    "\n",
    "\n",
    "        *\n",
    "       ***\n",
    "      *****\n",
    "     *******\n",
    "    *********"
   ]
  },
  {
   "cell_type": "code",
   "execution_count": 5,
   "id": "40e7988a",
   "metadata": {},
   "outputs": [
    {
     "name": "stdout",
     "output_type": "stream",
     "text": [
      "    *    \n",
      "   ***   \n",
      "  *****  \n",
      " ******* \n",
      "*********\n"
     ]
    }
   ],
   "source": [
    "#Answer\n",
    "\n",
    "for x in range(1,10,2):\n",
    "    print((\"*\"*x).center(9))\n",
    "    \n"
   ]
  },
  {
   "cell_type": "markdown",
   "id": "5f30f387",
   "metadata": {},
   "source": [
    "Q.10. Write a code to create the given structure using while loop.\n",
    "\n",
    "\n",
    "|||||||||\n",
    " |||||||\n",
    "  |||||\n",
    "   |||\n",
    "   \n",
    "   "
   ]
  },
  {
   "cell_type": "code",
   "execution_count": 1,
   "id": "4838c9c6",
   "metadata": {},
   "outputs": [
    {
     "name": "stdout",
     "output_type": "stream",
     "text": [
      "|||||||||\n",
      " ||||||| \n",
      "  |||||  \n",
      "   |||   \n",
      "    |    \n"
     ]
    }
   ],
   "source": [
    "#Answer\n",
    "\n",
    "x=9\n",
    "while x>=1:\n",
    "    print((\"|\"*x).center(9))\n",
    "    x=x-2\n"
   ]
  },
  {
   "cell_type": "code",
   "execution_count": null,
   "id": "564f1e64",
   "metadata": {},
   "outputs": [],
   "source": []
  }
 ],
 "metadata": {
  "kernelspec": {
   "display_name": "Python 3 (ipykernel)",
   "language": "python",
   "name": "python3"
  },
  "language_info": {
   "codemirror_mode": {
    "name": "ipython",
    "version": 3
   },
   "file_extension": ".py",
   "mimetype": "text/x-python",
   "name": "python",
   "nbconvert_exporter": "python",
   "pygments_lexer": "ipython3",
   "version": "3.10.9"
  }
 },
 "nbformat": 4,
 "nbformat_minor": 5
}
