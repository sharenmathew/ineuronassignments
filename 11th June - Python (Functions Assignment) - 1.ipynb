{
 "cells": [
  {
   "cell_type": "markdown",
   "id": "3f8eda5d",
   "metadata": {},
   "source": [
    "1. What is a lambda function in Python, and how does it differ from a regular function?\n",
    "\n",
    "Answer\n",
    "\n",
    "Lambda functions are small functions defined with the lambda keyword.These are usually not used for complex operations,loop ,if or else statements.Lambda functions are useful for small tasks that are not reused throughout the code.These can take any number of arguments, but can have only one expression. They are not user friendly. This function does not need return statement. The expression is evaluated and returned when the function is called"
   ]
  },
  {
   "cell_type": "markdown",
   "id": "33bdece3",
   "metadata": {},
   "source": [
    "2. Can a lambda function in Python have multiple arguments? If yes, how can you define and usethem?\n",
    "\n",
    "Answer\n",
    "\n",
    "lambda function can take any number of arguments but can have only one expression"
   ]
  },
  {
   "cell_type": "code",
   "execution_count": 6,
   "id": "bd1baba9",
   "metadata": {},
   "outputs": [
    {
     "data": {
      "text/plain": [
       "11"
      ]
     },
     "execution_count": 6,
     "metadata": {},
     "output_type": "execute_result"
    }
   ],
   "source": [
    "#EXAMPLE\n",
    "\n",
    "add= lambda x,y,z :x+y+z\n",
    "add(5,2,4)"
   ]
  },
  {
   "cell_type": "markdown",
   "id": "a2d3fa01",
   "metadata": {},
   "source": [
    "3. How are lambda functions typically used in Python? Provide an example use case.\n",
    "\n",
    "Answer\n",
    "\n",
    "They are often used with functions like map(), filter(), reduce(), and sorted()"
   ]
  },
  {
   "cell_type": "code",
   "execution_count": 16,
   "id": "4b575fa4",
   "metadata": {},
   "outputs": [
    {
     "name": "stdout",
     "output_type": "stream",
     "text": [
      "{'name': 'michelle', 'grade': 'A'}\n",
      "{'name': 'tijo', 'grade': 'B'}\n",
      "{'name': 'sharen', 'grade': 'D'}\n"
     ]
    }
   ],
   "source": [
    "#Example\n",
    "\n",
    "list_students= [{\"name\":\"michelle\",\"grade\":\"A\"},\n",
    "                {\"name\":\"sharen\",\"grade\":\"D\"},\n",
    "                {\"name\":\"tijo\",\"grade\":\"B\"}]\n",
    "\n",
    "sorted_grade= sorted(list_students, key= lambda x: x[\"grade\"])\n",
    "for i in sorted_grade:\n",
    "    print(i)"
   ]
  },
  {
   "cell_type": "markdown",
   "id": "9553bb7b",
   "metadata": {},
   "source": [
    "4. What are the advantages and limitations of lambda functions compared to regular functions in Python?\n",
    "\n",
    "Answer\n",
    "\n",
    "Advantage\n",
    "Lambda functions are small functions defined with the lambda keyword.  \n",
    "This function does not need return statement. The expression is evaluated and returned when the function is called\n",
    "\n",
    "limitations\n",
    "Lambda functions are useful for small tasks that are not reused throughout the code.\n",
    "They are not user friendly.\n",
    "These are usually not used for complex operations,loop ,if or else statements.\n",
    "These can take any number of arguments, but can have only one expression."
   ]
  },
  {
   "cell_type": "markdown",
   "id": "2caee4f5",
   "metadata": {},
   "source": [
    "5. Are lambda functions in Python able to access variables defined outside of their own scope? Explain with an example."
   ]
  },
  {
   "cell_type": "code",
   "execution_count": 9,
   "id": "d4b9ba9e",
   "metadata": {},
   "outputs": [
    {
     "name": "stdout",
     "output_type": "stream",
     "text": [
      "81\n"
     ]
    }
   ],
   "source": [
    "#Answer-- lambda function is able to access variable outside of their scope\n",
    "\n",
    "x=9\n",
    "\n",
    "square = lambda x: x ** 2\n",
    "print(square(x))"
   ]
  },
  {
   "cell_type": "markdown",
   "id": "26721740",
   "metadata": {},
   "source": [
    "6. Write a lambda function to calculate the square of a given number."
   ]
  },
  {
   "cell_type": "code",
   "execution_count": 105,
   "id": "351bebf7",
   "metadata": {},
   "outputs": [
    {
     "data": {
      "text/plain": [
       "100"
      ]
     },
     "execution_count": 105,
     "metadata": {},
     "output_type": "execute_result"
    }
   ],
   "source": [
    "#Answer 6\n",
    "\n",
    "square= lambda a : a**2 \n",
    "square(10)"
   ]
  },
  {
   "cell_type": "markdown",
   "id": "8878737a",
   "metadata": {},
   "source": [
    "7. Create a lambda function to find the maximum value in a list of integers."
   ]
  },
  {
   "cell_type": "code",
   "execution_count": 106,
   "id": "930c3086",
   "metadata": {},
   "outputs": [
    {
     "data": {
      "text/plain": [
       "95"
      ]
     },
     "execution_count": 106,
     "metadata": {},
     "output_type": "execute_result"
    }
   ],
   "source": [
    "#Answer 7\n",
    "\n",
    "max_val= lambda list_num:max(list_num)\n",
    "max_val([2,95,9,20])"
   ]
  },
  {
   "cell_type": "markdown",
   "id": "d7e81076",
   "metadata": {},
   "source": [
    "8. Implement a lambda function to filter out all the even numbers from a list of integers."
   ]
  },
  {
   "cell_type": "code",
   "execution_count": 2,
   "id": "2d185031",
   "metadata": {},
   "outputs": [
    {
     "name": "stdout",
     "output_type": "stream",
     "text": [
      "6\n",
      "4\n",
      "10\n"
     ]
    }
   ],
   "source": [
    "# Answer 8\n",
    "\n",
    "list_num=[6,17,4,10,5]\n",
    "for num in filter (lambda i:i%2==0, list_num):\n",
    "    print(num)\n"
   ]
  },
  {
   "cell_type": "markdown",
   "id": "0e993f1c",
   "metadata": {},
   "source": [
    "9. Write a lambda function to sort a list of strings in ascending order based on the length of each string."
   ]
  },
  {
   "cell_type": "code",
   "execution_count": 112,
   "id": "42cd85b6",
   "metadata": {},
   "outputs": [
    {
     "name": "stdout",
     "output_type": "stream",
     "text": [
      "['Big', 'tiny', 'large', 'smallest']\n"
     ]
    }
   ],
   "source": [
    "# Answer 9\n",
    "\n",
    "list_str=[\"Big\",\"large\",\"smallest\",\"tiny\"]\n",
    "asce_list= sorted (list_str, key= lambda x:len(x))\n",
    "print(asce_list)"
   ]
  },
  {
   "cell_type": "markdown",
   "id": "42b1a264",
   "metadata": {},
   "source": [
    "10. Create a lambda function that takes two lists as input and returns a new list containing the common elements between the two lists."
   ]
  },
  {
   "cell_type": "code",
   "execution_count": 128,
   "id": "4b04a7f6",
   "metadata": {},
   "outputs": [
    {
     "name": "stdout",
     "output_type": "stream",
     "text": [
      "[99, 1, 8]\n"
     ]
    }
   ],
   "source": [
    "# Answer 10\n",
    "\n",
    "list_common=[]\n",
    "list_1 = [8,1,2,3,99]\n",
    "list_2 = [99,1,4,6,8]\n",
    "compare_function = lambda x:x in list_1\n",
    "for num in filter(compare_function, list_2):\n",
    "    list_common.append(num)\n",
    "print(list_common)"
   ]
  },
  {
   "cell_type": "markdown",
   "id": "e19a678f",
   "metadata": {},
   "source": [
    "11. Write a recursive function to calculate the factorial of a given positive integer.\n"
   ]
  },
  {
   "cell_type": "code",
   "execution_count": 132,
   "id": "ac068bc0",
   "metadata": {},
   "outputs": [
    {
     "name": "stdout",
     "output_type": "stream",
     "text": [
      "24\n"
     ]
    }
   ],
   "source": [
    "# Answer 11\n",
    "\n",
    "def recursive_factorial(n):\n",
    "    if n == 1:\n",
    "        return 1\n",
    "    else:\n",
    "        return n * recursive_factorial(n - 1)\n",
    "\n",
    "print(recursive_factorial(4)) "
   ]
  },
  {
   "cell_type": "markdown",
   "id": "5a34cccc",
   "metadata": {},
   "source": [
    "12. Implement a recursive function to compute the nth Fibonacci number."
   ]
  },
  {
   "cell_type": "code",
   "execution_count": 1,
   "id": "dc2aebee",
   "metadata": {
    "scrolled": true
   },
   "outputs": [
    {
     "data": {
      "text/plain": [
       "[0, 1, 1, 2, 3, 5, 8, 13, 21, 34]"
      ]
     },
     "execution_count": 1,
     "metadata": {},
     "output_type": "execute_result"
    }
   ],
   "source": [
    "# Answer 12\n",
    "def recursive_fib(n):\n",
    "    if n<=0:\n",
    "        return []\n",
    "    elif n==1:\n",
    "        return  [0]\n",
    "    elif n==2:\n",
    "        return [0,1]\n",
    "    else:\n",
    "        fib_series=recursive_fib(n-1)\n",
    "        next_num=fib_series[-1]+fib_series[-2]\n",
    "        fib_series.append(next_num)\n",
    "        return fib_series\n",
    "        \n",
    "\n",
    "recursive_fib(10)\n"
   ]
  },
  {
   "cell_type": "markdown",
   "id": "a42720c9",
   "metadata": {},
   "source": [
    "13. Create a recursive function to find the sum of all the elements in a given list."
   ]
  },
  {
   "cell_type": "code",
   "execution_count": 7,
   "id": "2a524a3c",
   "metadata": {},
   "outputs": [
    {
     "data": {
      "text/plain": [
       "17"
      ]
     },
     "execution_count": 7,
     "metadata": {},
     "output_type": "execute_result"
    }
   ],
   "source": [
    "# Answer 13\n",
    "\n",
    "list_a=[2,4,6,5]\n",
    "def recursive_sum(list_a):\n",
    "    if len(list_a)==1:\n",
    "        return list_a[0]\n",
    "    else:\n",
    "        return list_a[0] +recursive_sum(list_a[1:])\n",
    "recursive_sum(list_a)"
   ]
  },
  {
   "cell_type": "markdown",
   "id": "6f3d94fd",
   "metadata": {},
   "source": [
    "14. Write a recursive function to determine whether a given string is a palindrome."
   ]
  },
  {
   "cell_type": "code",
   "execution_count": 1,
   "id": "5834bf28",
   "metadata": {},
   "outputs": [
    {
     "name": "stdout",
     "output_type": "stream",
     "text": [
      "Not Palindrome\n"
     ]
    }
   ],
   "source": [
    "#Answer 14\n",
    "\n",
    "#a=input(\"Enter a string: \")\n",
    "a=\"fish\"\n",
    "\n",
    "def recur_string(a):\n",
    "    if len(a)==1:\n",
    "        return a\n",
    "    else:\n",
    "        reverse=recur_string(a[1:])+ a[0]\n",
    "        return reverse\n",
    "                  \n",
    "    \n",
    "result=recur_string(a)\n",
    "if result==a:\n",
    "    print(\"Palindrome\")\n",
    "else:\n",
    "    print(\"Not Palindrome\")"
   ]
  },
  {
   "cell_type": "markdown",
   "id": "a839d35f",
   "metadata": {},
   "source": [
    "15. Implement a recursive function to find the greatest common divisor (GCD) of two positive integers."
   ]
  },
  {
   "cell_type": "code",
   "execution_count": 5,
   "id": "21a52451",
   "metadata": {},
   "outputs": [
    {
     "data": {
      "text/plain": [
       "1"
      ]
     },
     "execution_count": 5,
     "metadata": {},
     "output_type": "execute_result"
    }
   ],
   "source": [
    "def rec_gcd(a, b): \n",
    "    if b == 0: \n",
    "        return a \n",
    "    else: \n",
    "        return rec_gcd(b, a % b)\n",
    "    \n",
    "rec_gcd(12,11)"
   ]
  },
  {
   "cell_type": "code",
   "execution_count": null,
   "id": "4e1b2670",
   "metadata": {},
   "outputs": [],
   "source": []
  }
 ],
 "metadata": {
  "kernelspec": {
   "display_name": "Python 3 (ipykernel)",
   "language": "python",
   "name": "python3"
  },
  "language_info": {
   "codemirror_mode": {
    "name": "ipython",
    "version": 3
   },
   "file_extension": ".py",
   "mimetype": "text/x-python",
   "name": "python",
   "nbconvert_exporter": "python",
   "pygments_lexer": "ipython3",
   "version": "3.10.9"
  }
 },
 "nbformat": 4,
 "nbformat_minor": 5
}
